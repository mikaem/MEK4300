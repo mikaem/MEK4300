{
 "cells": [
  {
   "cell_type": "markdown",
   "metadata": {},
   "source": [
    "# Chapter 4\n",
    "\n",
    "Important topics of Chapter 4 {cite}`white06`.\n",
    "\n",
    "1. Displacement thickness\n",
    "2. Momentum thickness\n",
    "3. Flat plate integral analysis\n",
    "4. Boundary layer equations\n",
    "5. Flow separation\n",
    "6. Blasius solution\n",
    "7. Falkner-Skan solution\n",
    "\n",
    "## Suggested assignments chapter 4\n",
    "\n",
    "### Written assignments chapter 4\n",
    "\n",
    "1. Derive the boundary layer equations (Eq. (4-32) in {cite}`white06`) starting from the Navier-Stokes equations.\n",
    "2. Derive the Blasius equation.\n",
    "3. Derive the Falkner-Skan equation.\n",
    "\n",
    "### Computer assignments chapter 4 \n",
    "\n",
    "1. Implement a nonlinear solver for the Blasius equation. Do the same for the Falkner-Skan equation and vary the parameter $\\beta$ as shown in Fig. 4-11 in {cite}`white06`. What happens at $\\beta=-0.19884$? At $-0.19884 \\leq \\beta \\leq 0$ there are according to White at least two possible solutions. One solution is shown in Fig. 4-11a in White. Another solution shows negative values for $f^{\\prime \\prime}(0)$, thus indicating backflow close to the wall. Using different initial guesses for the solution it should be possible to obtain both solutions.\n",
    "\n",
    "2. Compute the flow past a rotating cylinder. Use a rectangular domain $\\Omega = [0, 6] \\times [-1, 1]$ and place the cylinder at $(x,y) = (1,0)$ with a radius of 0.25. Assume at first steady creeping flow, walls at $y = \\pm 1$ and set the velocity on the left hand side ($x=0$) to $1-y^2$. Set the cylinder to rotate against the clock at a constant speed of 1. Compute lift and drag forces on the cylinder. Reverse the direction of the rotation and recompute lift and drag. Now include convection and solve the Steady (nonlinear) Navier-Stokes equations for the same problem. Set the rotation to oscillate with an angular speed of $\\sin \\pi t$ and compute the unsteady creeping flow past the cylinder. Do the same for unsteady Navier-Stokes and attempt to find the [von Kármán street](https://en.wikipedia.org/wiki/Kármán_vortex_street) for a steady cylinder.\n"
   ]
  },
  {
   "cell_type": "markdown",
   "metadata": {},
   "source": [
    "\n",
    "```{bibliography} ../../references.bib\n",
    ":filter: docname in docnames\n",
    "```"
   ]
  }
 ],
 "metadata": {
  "kernelspec": {
   "display_name": "Python 3",
   "language": "python",
   "name": "python3"
  },
  "language_info": {
   "codemirror_mode": {
    "name": "ipython",
    "version": 3
   },
   "file_extension": ".py",
   "mimetype": "text/x-python",
   "name": "python",
   "nbconvert_exporter": "python",
   "pygments_lexer": "ipython3",
   "version": "3.8.5"
  },
  "toc": {
   "base_numbering": 1,
   "nav_menu": {},
   "number_sections": false,
   "sideBar": true,
   "skip_h1_title": false,
   "title_cell": "Table of Contents",
   "title_sidebar": "Contents",
   "toc_cell": false,
   "toc_position": {},
   "toc_section_display": true,
   "toc_window_display": false
  }
 },
 "nbformat": 4,
 "nbformat_minor": 2
}
