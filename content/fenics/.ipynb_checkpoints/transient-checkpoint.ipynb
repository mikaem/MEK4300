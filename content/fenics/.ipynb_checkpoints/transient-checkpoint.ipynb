{
 "cells": [
  {
   "cell_type": "markdown",
   "metadata": {},
   "source": [
    "# Transient problems\n",
    "\n",
    "Transient problems are usually solved in FEniCS using a finite difference approximation of the time derivative. The time dimension can be discretized using constant discrete time intervals of length $\\triangle t$, and we look for solutions at the discrete times $t = [0, \\triangle t, 2\\triangle t, ..., T-\\triangle t, T] = k \\triangle t$, for $k=0, 1, 2, ..., N-1, N$, $\\triangle t = T/N$. The solutions at the $N+1$ different timesteps are similarly written as $u^k$. Using finite differences for the time derivative, a variational form of the heat equation reads\n",
    "\n",
    "```{math}\n",
    "  \\int_{\\Omega} \\frac{u^k - u^{k-1}}{\\triangle t} v \\mathrm{d}x = -\\nu \\int_{\\Omega} \\nabla u^{k-\\frac{1}{2}} \\cdot \\nabla v \\mathrm{d}x,\n",
    "```\n",
    "\n",
    "where the right hand side is computed at the midpoint between timesteps $k$ and $k-1$ using notation $u^{k - \\frac{1}{2}} = (u^k + u^{k-1})/2$. Note that when the solution is computed, we start at the initial condition at $k=0$, where the initial condition $u^{0}$ is known and $u^1$ is unknown. When $u^1$ is subsequently computed and known, we are ready to move on to the next solution $u^2$ and so on. In other words, $u^k$ is always the unknown we are trying to compute and $u^{k-1}, u^{k-2}, ...$ are all considered to be known. In FEniCS the unknown $u^k$ is represented in `Form`s as a `TrialFunction`, whereas all knowns are represented as `Function`s. A variational form for the heat equation in FEniCS may look like:\n",
    "\n",
    "```python\n",
    "u = TrialFunction(V)\n",
    "v = TestFunction(V)\n",
    "u_ = Function(V)    # Known solution at k\n",
    "u_1 = Function(V)   # Known solution at k-1\n",
    "dt = Constant(0.1)\n",
    "nu = 0.01\n",
    "U = 0.5*(u+u_1)\n",
    "F = inner(u - u_1, v)*dx + dt*nu*inner(grad(U), grad(v))*dx\n",
    "```\n",
    "\n",
    "The solution of the form must be placed inside a loop, advancing the solution forward in time, something like:\n",
    "\n",
    "```python\n",
    "t = 0\n",
    "while t < T:\n",
    "    t += dt\n",
    "    solve(lhs(F) == rhs(F), u_, bcs)\n",
    "    # Advance solution to next timestep:\n",
    "    u_1.vector()[:] = u_.vector()\n",
    "```\n",
    "\n",
    "The python functions `lhs` and `rhs` are used to extract bilinear (terms containing both trial- and testfunctions) and linear (terms containing only testfunction and no trialfunction) forms respectively. The last line of code copies all the values from `u_` to `u_1`. Note that $u^k$ is the unknown we look for at timestep $k$. In the variational form $u^k$ is represented as an unknown `TrialFunction`. However, when the variational form has been solved, the known solution can be found in the `Function` `u_` and we are then finished with timestep $k$. When we now move on to the next timestep, the solution we just found becomes the solution at the previous timestep, i.e., at $k-1$. This is why we copy all values from `u_` to `u_1` as our final task in the time loop.\n"
   ]
  }
 ],
 "metadata": {
  "kernelspec": {
   "display_name": "Python 3",
   "language": "python",
   "name": "python3"
  },
  "language_info": {
   "codemirror_mode": {
    "name": "ipython",
    "version": 3
   },
   "file_extension": ".py",
   "mimetype": "text/x-python",
   "name": "python",
   "nbconvert_exporter": "python",
   "pygments_lexer": "ipython3",
   "version": "3.8.5"
  }
 },
 "nbformat": 4,
 "nbformat_minor": 2
}
