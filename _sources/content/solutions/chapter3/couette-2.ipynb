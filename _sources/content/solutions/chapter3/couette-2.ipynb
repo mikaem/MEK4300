{
 "cells": [
  {
   "cell_type": "markdown",
   "metadata": {},
   "source": [
    "# Suggested solutions Couette\n",
    "\n",
    "## Solutions written assignments Couette"
   ]
  },
  {
   "cell_type": "markdown",
   "metadata": {},
   "source": [
    "### [Problem 1](../../chapter3/couette.ipynb#problem-3-1)\n",
    "\n",
    "Solve for a non-Newtonian Couette flow, where the stress tensor is computed as\n",
    "  \n",
    "$$\n",
    "  \\tau = K\\left(\\frac{\\mathrm{d}u}{\\mathrm{d}y}\\right)^n,\n",
    "$$\n",
    "  \n",
    "where $n$ is an integer different from 1.\n",
    "The momentum equation for any stress tensor in a Couette flow is\n",
    "   \n",
    "$$\n",
    "  0 = \\nabla \\cdot \\tau.\n",
    "$$\n",
    "  \n",
    "For one-dimensional Couette flow aligned with the $x$-direction and homogeneous in the $z$-direction, the equation reads\n",
    "  \n",
    "$$\n",
    "  0 = \\frac{\\mathrm{d} \\tau}{\\mathrm{d}y},\n",
    "$$\n",
    "  \n",
    "which means that $\\tau$ is a constant with respect to $y$ and thus\n",
    "  \n",
    "$$\n",
    " K\\left(\\frac{\\mathrm{d}u}{\\mathrm{d}y}\\right)^n = K_2,\n",
    "$$\n",
    "  \n",
    "where $K_2$ is a new constant. In other words\n",
    "  \n",
    "$$\n",
    " \\frac{\\mathrm{d}u}{\\mathrm{d}y} = K_3 \\left(= (K_2/K)^{1/n}\\right),\n",
    "$$\n",
    "  \n",
    "and thus\n",
    "  \n",
    "$$\n",
    " u = K_3 y + K_4.\n",
    "$$\n",
    "  \n",
    "The solution is the same as for Newtonian flows regardless of $n$."
   ]
  },
  {
   "cell_type": "markdown",
   "metadata": {
    "tags": [
     "remove-cell"
    ]
   },
   "source": [
    "### [Problem 2](../../chapter3/couette.ipynb#problem-3-2)\n",
    "\n",
    "The analytical solution has already been computed in Eq. {eq}`eq:UaxCyl` in [Couette flows](../../chapter3/couette.ipynb)."
   ]
  },
  {
   "cell_type": "markdown",
   "metadata": {
    "tags": [
     "remove-cell"
    ]
   },
   "source": [
    "### [Problem 3](../../chapter3/couette.ipynb#problem-3-3)\n",
    "\n",
    "The temperature equation reduces to\n",
    "  \n",
    "$$\n",
    " 0 = \\frac{\\kappa}{r}\\frac{\\mathrm{d}}{\\mathrm{d} r}\\left(r \\frac{\\mathrm{d} T}{\\mathrm{d} r} \\right) + \\mu \\left(\\frac{\\mathrm{d} u_z}{\\mathrm{d}r} \\right)^2.\n",
    "$$\n",
    "  \n",
    "Inserting for Eq. {eq}`eq:UaxCyl` we have\n",
    "  \n",
    "$$\n",
    " \\frac{\\mathrm{d}}{\\mathrm{d} r}\\left(r \\frac{\\mathrm{d} T}{\\mathrm{d} r} \\right) = -\\frac{\\mu U_0^2}{\\kappa r \\ln^2(r_1/r_0)}.\n",
    "$$\n",
    "  \n",
    "Integrate twice to obtain\n",
    "  \n",
    "$$\n",
    " T = -\\frac{\\mu U_0^2}{2 \\kappa \\ln^2(r_1/r_0)} \\ln^2(r) + C_1\\ln(r) + C_2,\n",
    "$$\n",
    "   \n",
    "and determine constants using the two boundary conditions.\n",
    "   "
   ]
  },
  {
   "cell_type": "markdown",
   "metadata": {
    "tags": [
     "remove-cell"
    ]
   },
   "source": [
    "### [Problem 4](../../chapter3/couette.ipynb#problem-3-4)\n",
    "\n",
    "The problem reads: solve the Laplace equation in cylindrical coordinates {eq}`eq:poissonCyl` with boundary conditions $u(0)=U$ and $u(\\infty)=0$. The solution for the velocity is given in Eq. {eq}`eq:ustep1` and inserted for the boundary conditions we need to find $C_1$ and $C_2$ such that\n",
    "   \n",
    "$$\n",
    "\\begin{aligned}\n",
    "  u(0) = U &= C_1 \\ln(0) + C_2, \\\\\n",
    "  u(\\infty) = 0 &= C_1 \\ln(\\infty) + C_2.\n",
    "\\end{aligned}\n",
    "$$\n",
    "   \n",
    "The first condition requires $C_1=0$ and thus $C_2=U$. The second condition requires $C_2=0$, which is a contradiction. It is not possible to satisfy both boundary conditions. Physically, the boundary layer that is being dragged by the rod will continue to grow indefinitely and there is no steady state solution possible for this problem."
   ]
  },
  {
   "cell_type": "markdown",
   "metadata": {
    "tags": [
     "remove-cell"
    ]
   },
   "source": [
    "### [Problem 5](../../chapter3/couette.ipynb#problem-3-5)\n",
    "\n",
    "Solve the momentum equation for the angular velocity\n",
    "   \n",
    "$$\n",
    "  \\frac{\\mathrm{d}^2 u_{\\theta}}{\\mathrm{d} r^2} + \\frac{\\mathrm{d} u_{\\theta}/r}{\\mathrm{d}r} = 0\n",
    "  \\label{eq:AngularVel}\n",
    "$$\n",
    "   \n",
    "with boundary conditions $u(R)=\\omega R$ and $u(\\infty)=0$. The solution to this equation is given by {cite}`white06`\n",
    "   \n",
    "$$\n",
    "  u_{\\theta}(r) = C_1 r + \\frac{C_2}{r}\n",
    "$$\n",
    "   \n",
    "The boundary conditions are then\n",
    "   \n",
    "$$\n",
    "\\begin{aligned}\n",
    "  u_{\\theta}(R) = \\omega R &= C_1 R + \\frac{C_2}{R}, \\\\\n",
    "  u_{\\theta}(\\infty) = 0 &= C_1 \\infty + \\frac{C_2}{\\infty}\n",
    "\\end{aligned}\n",
    "$$\n",
    "   \n",
    "which leads to $C_1=0$ and $C_2=\\omega R^2$ and thus the angular velocity\n",
    "   \n",
    "$$\n",
    "  u_{\\theta} = \\frac{\\omega R^2}{r},\n",
    "$$\n",
    "   \n",
    "which agrees with the solution of a potential vortex.\n",
    "The pressure is found from the r-momentum equation\n",
    "   \n",
    "$$\n",
    "\\begin{aligned}\n",
    " \\frac{\\mathrm{d} p}{\\mathrm{d} r} &= \\frac{\\rho u_{\\theta}^2}{r}, \\\\\n",
    " \\frac{\\mathrm{d} p}{\\mathrm{d} r} &= \\frac{\\rho \\omega^2 R^4}{r^3}\n",
    "\\end{aligned}\n",
    "$$\n",
    "   \n",
    "which can be integrated to\n",
    "   \n",
    "$$\n",
    " p(r) = -\\frac{\\rho \\omega^2 R^4}{2 r^2} + C_1\n",
    "$$\n",
    "   \n",
    "and where the constant can be found by assuming $p(R)=p_0$ such that\n",
    "   \n",
    "$$\n",
    " p(r) = p_0 + \\frac{\\rho \\omega^2 R^2}{2}\\left(1 - \\frac{R^2}{r^2} \\right),\n",
    "$$\n",
    "   \n",
    "which is what we would find using Bernoulli's equation for a potential vortex ($p_0+0.5\\rho (\\omega R)^2 = p + 0.5 \\rho u^2$)."
   ]
  },
  {
   "cell_type": "markdown",
   "metadata": {
    "tags": [
     "remove-cell"
    ]
   },
   "source": [
    "### [Problem 6](../../chapter3/couette.ipynb#problem-6)\n",
    "\n",
    "Introducing the function $\\boldsymbol{U}(y, t) = 1/L[(L-y)g(t) + y h(t)]$ and $v(y, t) = u(y, t) - \\boldsymbol{U}(y, t)$ we obtain an inhomogeneous heat equation with homogeneous boundary conditions as given in [Hint 2](../../chapter3/couette.ipynb#problem-6-hint-2). The right hand side function, boundary conditions and initial conditions can be found straight forward as\n",
    "   \n",
    "$$\n",
    "\\begin{aligned}\n",
    "  f(y, t) &= -\\frac{\\partial \\boldsymbol{U}}{\\partial t} = -(1-\\frac{y}{L})g'(t) + \\frac{y}{L} h'(t)\\\\\n",
    "  v(y, 0) &= \\overline{\\phi}(y) = \\phi(y) - \\boldsymbol{U}(y, 0), \\\\\n",
    "  v(0, t) &= v(L, t) = 0.\n",
    "\\end{aligned}\n",
    "$$\n",
    "   \n",
    "The solution to the homogeneous part of the problem can be found using separation of variables $v^h(y, t) = T(t) V(y)$\n",
    "   \n",
    "$$\n",
    " \\frac{\\dot{T}}{\\nu T} = \\frac{V''}{V} = -\\lambda^2\n",
    "   $$\n",
    "   \n",
    "and thus $T(t) = e^{-\\lambda^2 \\nu t}$. The boundary conditions give $V(y) = A \\sin(\\lambda y)$ and to satisfy initial conditions we need to use superposition and a range of solutions. The homogeneous solution thus reads\n",
    "   \n",
    "$$\n",
    "  v^h(y, t) = \\sum_{n=1}^{\\infty} A_n \\sin(\\lambda_n y) e^{-\\lambda_n^2 \\nu t},\n",
    "$$\n",
    "   \n",
    "where we can find $A_n$ using the initial condition and orthogonality, i.e., multiply $v^h(y,0)(=\\overline{\\phi}(y))$ by $\\sin(\\lambda_m y)$ and integrate to obtain\n",
    "   \n",
    "$$\n",
    "\\begin{aligned}\n",
    "  A_n &= \\frac{1}{L} \\int_{-L}^{L} \\overline{\\phi}(y) \\sin(\\lambda_n y) \\mathrm{d}y, \\\\\n",
    "   &= \\frac{2}{L} \\int_{0}^{L} \\overline{\\phi}(y) \\sin(\\lambda_n y) \\mathrm{d}y,\n",
    "   \\label{eq:AnHomo}\n",
    "\\end{aligned}\n",
    "$$\n",
    "  \n",
    "where the last step follows if $\\overline{\\phi}(y)$ is an odd function.\n",
    "The solution to the inhomogeneous part of the problem reuses the homogeneous solution, but replaces $\\overline{\\phi}(y)$ with $f(y,s)$ when computing the coefficients. We thus replace $A_n$ with $B_n(t)$ and compute it as\n",
    "   \n",
    "$$\n",
    "  B_n(t) = \\frac{2}{L} \\int_0^{L} \\sin(\\lambda_n y) f(y, t) \\mathrm{d}y\n",
    "$$\n",
    "   \n",
    "Using superposition in time the inhomogeneous solution is thus\n",
    "   \n",
    "$$\n",
    "  v^p(y, t) = \\int_0^t \\sum_{n=1}^{\\infty} e^{-\\lambda_n^2 \\nu (t-s)} B_n(s) \\sin(\\lambda_n y) \\mathrm{d}s,\n",
    "$$\n",
    "  \n",
    "and the general solution to our original problem is\n",
    "  \n",
    "$$\n",
    "  u(y, t) = v^h(y, t) + v^p(y, t) + \\boldsymbol{U}(y, t).\n",
    "$$\n",
    "\n",
    "   - Specific solution where $g(t) = U_0 \\cos (\\omega t)$, $h(t)=0$ and $\\phi(y)=U_0(1-y/L)$. The problem now reads for $v(y,t) = u(y, t) - \\boldsymbol{U}(y, t)$\n",
    "   \n",
    "      $$\n",
    "\\begin{aligned}\n",
    "  \\frac{\\partial v}{\\partial t} - \\nu \\frac{\\partial ^2 v}{\\partial y^2} &= f(y, t) = U_0 \\omega (1-\\frac{y}{L}) \\sin(\\omega t) , \\quad \\mathrm{ for }\\quad 0 \\leq y \\leq L   \\\\\n",
    "\\notag  v(y, 0) &= U_0(1-\\frac{y}{L}) - U_0(1- \\frac{y}{L}) = 0, \\\\\n",
    "\\notag  v(0, t) &= v(L, t) = 0,\n",
    "\\end{aligned}\n",
    "      $$\n",
    "    \n",
    "      and naturally the homogeneous solution is identically zero, i.e.,  $v^h(y, t) = 0$. The inhomogeneous contribution to the total solution is found by computing $B_n$ and $v^p$. Both integrals can be obtained using Wolfram alpha, the first one reads\n",
    "      \n",
    "      $$\n",
    "\\begin{aligned}\n",
    "  B_n(t) &= \\frac{2}{L} \\int_0^L \\sin(\\lambda_n y) U_0 \\omega (1-\\frac{y}{L}) \\sin(\\omega t) \\mathrm{d}y, \\\\\n",
    "    &= \\frac{2 U_0 \\omega \\sin(\\omega t)}{\\lambda_n L}.\n",
    "\\end{aligned}\n",
    "      $$\n",
    "    \n",
    "      Inserted into the equation for $v^p$ one obtains\n",
    "    \n",
    "      $$\n",
    "  v^p(y, t) = \\frac{2 U_0 \\omega }{L} \\int_0^t \\sum_{n=1}^{\\infty} \\frac{\\sin(\\lambda_n y)}{\\lambda_n} e^{-\\lambda_n^2 \\nu (t-s)}\\sin(\\omega s)   \\mathrm{d}s,\n",
    "      $$\n",
    "    \n",
    "      which Wolfram alpha tells me is equal to\n",
    "    \n",
    "      $$\n",
    " v^p(y, t) = \\frac{2 U_0 \\omega }{L} \\sum\\limits_{n=1}^{\\infty} \\frac{\\sin(\\lambda_n y)}{\\lambda_n}  \\left(\\frac{\\nu\\lambda_n^2\\sin(\\omega t)-\\omega\\cos(\\omega t) + \\omega e^{-\\lambda_n^2\\nu t}}{\\omega^2 + \\lambda_n^4\\nu^2}\\right).\n",
    "      $$\n",
    "    \n",
    "      The total solution is thus $u(y, t) = v^p(y,t) + U_0\\cos(\\omega t) (1-y/L)$."
   ]
  },
  {
   "cell_type": "markdown",
   "metadata": {},
   "source": [
    "## Solutions computer exercises Couette"
   ]
  },
  {
   "cell_type": "markdown",
   "metadata": {
    "tags": [
     "remove-cell"
    ]
   },
   "source": [
    "### Flow between rotating concentric cylinders \n",
    "\n",
    "[computer problem 1](../../chapter3/couette.ipynb#c-computer-1). See code below:"
   ]
  },
  {
   "cell_type": "code",
   "execution_count": 1,
   "metadata": {
    "tags": [
     "remove-cell"
    ]
   },
   "outputs": [
    {
     "name": "stdout",
     "output_type": "stream",
     "text": [
      "\n",
      "Error velocity    =  1.1540847636407312e-05\n",
      "Error temperature =  0.20666794167009878\n",
      "??? Should be close to zero.\n",
      "\n",
      "\n",
      "Error recomputed temperature =  0.000492714248321644\n",
      "Which is a strong indication that (3.23) is wrong!!\n"
     ]
    },
    {
     "data": {
      "image/png": "[encoded data removed]",
      "text/plain": [
       "<Figure size 432x288 with 1 Axes>"
      ]
     },
     "metadata": {
      "needs_background": "light"
     },
     "output_type": "display_data"
    },
    {
     "data": {
      "image/png": "[encoded data removed]",
      "text/plain": [
       "<Figure size 432x288 with 1 Axes>"
      ]
     },
     "metadata": {
      "needs_background": "light"
     },
     "output_type": "display_data"
    }
   ],
   "source": [
    "\"\"\"\n",
    "Flow between rotating concentric cylinders\n",
    "\"\"\"\n",
    "from dolfin import *\n",
    "import matplotlib.pyplot as plt\n",
    "%matplotlib inline\n",
    "\n",
    "r0, r1 = 0.2, 1\n",
    "mesh = IntervalMesh(100, r0, r1)\n",
    "V = FunctionSpace(mesh, 'CG', 1)\n",
    "u = TrialFunction(V)\n",
    "v = TestFunction(V)\n",
    "x = Expression(\"x[0]\", degree=1)\n",
    "w0, w1 = Constant(1.), Constant(0.1)\n",
    "T0, T1 = Constant(8), Constant(10)\n",
    "mu = Constant(0.25)\n",
    "k  = Constant(0.001)\n",
    "u_ = Function(V)\n",
    "T_ = Function(V)\n",
    "F  = inner(grad(v), grad(u))*x*dx + u*v/x*dx\n",
    "FT = inner(grad(v), grad(u))*x*dx - mu/k*v*x*(u_.dx(0)-u_/x)**2*dx\n",
    "\n",
    "def inner_bnd(x, on_bnd):\n",
    "    return on_bnd and x[0] < r0+DOLFIN_EPS\n",
    "\n",
    "def outer_bnd(x, on_bnd):\n",
    "    return on_bnd and x[0] > 1-DOLFIN_EPS\n",
    "\n",
    "bci = DirichletBC(V, r0*w0(0), \"std::abs(x[0]-{}) < 1.e-12\".format(r0))\n",
    "bco = DirichletBC(V, r1*w1, outer_bnd)\n",
    "bcTi = DirichletBC(V, T0, inner_bnd)\n",
    "bcTo = DirichletBC(V, T1, outer_bnd)\n",
    "\n",
    "solve(lhs(F) == rhs(F), u_, bcs=[bci, bco])\n",
    "solve(lhs(FT) == rhs(FT), T_, bcs=[bcTi, bcTo])\n",
    "\n",
    "# Compute exact solution given in (3.22)\n",
    "ue = project(r0*w0*(r1/x-x/r1)/(r1/r0-r0/r1) +\n",
    "             r1*w1*(x/r0-r0/x)/(r1/r0-r0/r1), V)\n",
    "\n",
    "# Compute exact solution given in (3.23)\n",
    "Tn = project((T_-T0)/(T1-T0), V)\n",
    "PrEc = mu*r0**2*w0**2/k/(T1-T0)\n",
    "Te = PrEc*r1**4/(r1**2-r0**2)**2*((1-r0**2/x**2) - (1-r0**2/r1**2)*ln(x/r0)/ln(r1/r0)) + ln(x/r0)/ln(r1/r0)\n",
    "Te = project(Te, V)\n",
    "\n",
    "print(\"\\nError velocity    = \", errornorm(u_, ue, degree_rise=0))\n",
    "print(\"Error temperature = \", errornorm(Tn, Te, degree_rise=0))\n",
    "print(\"??? Should be close to zero.\\n\")\n",
    "\n",
    "plt.figure()\n",
    "plt.plot(u_.vector().get_local())\n",
    "plt.plot(ue.vector().get_local())\n",
    "plt.title(\"Angular velocity\")\n",
    "plt.legend(('Computed', 'Exact'))\n",
    "plt.figure()\n",
    "plt.plot(Tn.vector().get_local())\n",
    "plt.plot(Te.vector().get_local())\n",
    "plt.title(\"Temperature (?wrong?)\")\n",
    "plt.legend(('Computed', 'Exact'))\n",
    "\n",
    "# Since I cannot reproduce the temperature I have recomputed\n",
    "# (3.23) analytically. I plot that result here\n",
    "C1 = w0-r1**2*(w1-w0)/(r0**2-r1**2)\n",
    "C2 = r1**2*(w1-w0)/(1-r1**2/r0**2)\n",
    "C3 = (T1-T0+C2**2*mu/k*(1/r1**2-1/r0**2))/ln(r1/r0)\n",
    "C4 = T0 + C2**2*mu/k/r0**2-C3*ln(r0)\n",
    "Tee = project((-C2**2*mu/k/x**2+C3*ln(x)+C4-T0)/(T1-T0), V)\n",
    "\n",
    "print(\"\\nError recomputed temperature = \", errornorm(Tn, Tee))\n",
    "print(\"Which is a strong indication that (3.23) is wrong!!\")\n",
    "plt.show()"
   ]
  }
 ],
 "metadata": {
  "celltoolbar": "Tags",
  "kernelspec": {
   "display_name": "Python 3",
   "language": "python",
   "name": "python3"
  },
  "language_info": {
   "codemirror_mode": {
    "name": "ipython",
    "version": 3
   },
   "file_extension": ".py",
   "mimetype": "text/x-python",
   "name": "python",
   "nbconvert_exporter": "python",
   "pygments_lexer": "ipython3",
   "version": "3.8.5"
  },
  "toc": {
   "base_numbering": 1,
   "nav_menu": {},
   "number_sections": false,
   "sideBar": true,
   "skip_h1_title": false,
   "title_cell": "Table of Contents",
   "title_sidebar": "Contents",
   "toc_cell": false,
   "toc_position": {},
   "toc_section_display": true,
   "toc_window_display": false
  }
 },
 "nbformat": 4,
 "nbformat_minor": 4
}
