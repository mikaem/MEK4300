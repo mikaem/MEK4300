{
 "cells": [
  {
   "cell_type": "markdown",
   "metadata": {},
   "source": [
    "# Introduction\n",
    "\n",
    "These lecture notes are created using [Jupyter notebooks](https://jupyter.org). The notes contain\n",
    "live code examples that can be modified and run. The idea is for the user to get an interactive\n",
    "experience that hopefully will make the education both more interesting, as well as better quality.\n",
    "Learning by doing, programming is understanding. The notes are best read with html online. However, they can still be downloaded as a single pdf from the PDF button on the right.\n",
    "\n",
    "```{margin}\n",
    "<a href=\"https://github.com/mikaem/MEK4300/blob/master/mek4300_latex.pdf\"><button><img  src=\"../_static/images/Cloud.svg\" alt=\"Get PDF\" /> PDF </button></a>\n",
    "```    \n",
    "On all html pages in these notes there are some buttons in the top right corner. The last button lets you download the page you are currently surfing as a jupyter notebook or a pdf. The notebook can then be opened, modified and run locally, if you are in an environment with jupyter installed. However, the different pages in these lecture notes are connected, with some links going from one page to another. So you probably want to open all these notebooks in a folder where they all live together. To this end you can for example clone the github repository (third link above) where these notes are stored. The notebooks can then be run if you have a proper environment. \n",
    "However, if you do not have a proper jupyter environment, then there is also first button, which looks like a rocket. The rockets first link will take you to [Binder](https://mybinder.org), where you will have all notebooks available in the same good environment. This means, in particular, \n",
    "that the environment will have FEniCS installed for you.\n",
    "\n",
    "Please note that if you read these notes in jupyter, then some equations and figures will look weird, or unrendered, still in their source, or latex form. This is because all equations in need of reference (especially across different pages) must be written in [MyST Markdown](https://jupyterbook.org/content/math.html#numbering-equations) format. This gives nice equations and references in html and pdf, but the notebooks unfortunately look unrendered. It is not wrong, it is just that jupyter still does not know how to render MyST Markdown.\n",
    "\n",
    "So what about these live computational cells? On most pages of these notes there are computational cells, where code can be typed and executed, like this:"
   ]
  },
  {
   "cell_type": "code",
   "execution_count": 1,
   "metadata": {
    "tags": [
     "thebe-init",
     "hide-input"
    ]
   },
   "outputs": [],
   "source": [
    "a = 'Hello world!'"
   ]
  },
  {
   "cell_type": "code",
   "execution_count": 2,
   "metadata": {},
   "outputs": [
    {
     "name": "stdout",
     "output_type": "stream",
     "text": [
      "Hello world!\n"
     ]
    }
   ],
   "source": [
    "print(a)"
   ]
  },
  {
   "cell_type": "markdown",
   "metadata": {},
   "source": [
    "Confused? Well, that's probably because the variable `a` was declared in the hidden cell above (press `Click to show`). In notebooks the cells are connected, and a variable defined in one cell will be available in consecutive cells. \n",
    "\n",
    "If you are reading these notes in jupyter, then these cells are simply regular code cells. However, on the web (if this note you are reading is an html-file) the cells appear first to be dead, and you will be unable to edit them, which is a drag:-( Luckily, at this point you can turn again to the rocket button and press `Live Code`. This will in turn load a Binder environment that makes it possible to run the cells interactively, while still remaining in the html-version of this book, without moving to Binder. Please note that the first time a binder image is requested for a new version of this book, it may take some time to build and the *Waiting for kernel...* message seems to be hanging. However, after loading the first time, subsequent runs on this and other pages should be much faster.\n",
    "\n",
    "Finally, note that in these lecture notes we will make extensive use of [FEniCS](https://fenicsproject.org) as a tool for solving the various partial differential equations that arise. FEniCS makes use of the finite element method (FEM), and some knowledge about FEM is an advantage, yet no requirement, when reading these notes. We import all functionality of FEniCS by importing from `dolfin`, as seen below. Note that `dolfin` is the C++ module of FEniCS, which has been wrapped and made usable from Python. But note that this import must be done on each notebook. It is not enough to import dolfin here, and then use it on consecutive pages, like the [Couette chapter](chapter3/couette.ipynb). For this reason you'll also find the following code bit also on, e.g., the {ref}`implementation-couette` section in the Couette notes."
   ]
  },
  {
   "cell_type": "code",
   "execution_count": 3,
   "metadata": {},
   "outputs": [],
   "source": [
    "from dolfin import *"
   ]
  }
 ],
 "metadata": {
  "celltoolbar": "Tags",
  "kernelspec": {
   "display_name": "Python 3",
   "language": "python",
   "name": "python3"
  },
  "language_info": {
   "codemirror_mode": {
    "name": "ipython",
    "version": 3
   },
   "file_extension": ".py",
   "mimetype": "text/x-python",
   "name": "python",
   "nbconvert_exporter": "python",
   "pygments_lexer": "ipython3",
   "version": "3.8.5"
  },
  "toc": {
   "base_numbering": 1,
   "nav_menu": {},
   "number_sections": false,
   "sideBar": true,
   "skip_h1_title": false,
   "title_cell": "Table of Contents",
   "title_sidebar": "Contents",
   "toc_cell": false,
   "toc_position": {},
   "toc_section_display": true,
   "toc_window_display": false
  }
 },
 "nbformat": 4,
 "nbformat_minor": 2
}
