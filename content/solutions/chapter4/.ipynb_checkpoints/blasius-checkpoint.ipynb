{
 "cells": [
  {
   "cell_type": "markdown",
   "metadata": {},
   "source": [
    "# Suggested derivation of Blasius equation\n",
    "\n",
    "The Blasius solution is derived from the boundary layer equations using a similarity variable\n",
    "\n",
    "```{math}\n",
    "  \\eta(x, y) = y \\sqrt{\\frac{U}{2 \\nu x}}.\n",
    "```\n",
    "\n",
    "The pressure gradient is zero and the stream function and the velocity components are assumed given at a constant $x$-value as\n",
    "\n",
    "```{math}\n",
    "  \\psi = \\sqrt{2 \\nu U x} f(\\eta), \\quad u = U f^{\\prime}, \\quad v = \\sqrt{\\frac{\\nu U}{2 x}} \\left(\\eta f^{\\prime} - f \\right).\n",
    "```\n",
    "\n",
    "The derivatives of $\\eta$ are\n",
    "\n",
    "```{math}\n",
    "  \\frac{\\partial \\eta}{\\partial x} &= -\\frac{y}{2}\\sqrt{\\frac{U}{2 \\nu}} x^{-\\frac{3}{2}} = -\\frac{\\eta}{2 x}, \\\\\n",
    "  \\frac{\\partial \\eta}{\\partial y} &= \\sqrt{\\frac{U}{2 \\nu x}}.\n",
    "```\n",
    "\n",
    "These are then used in the partial derivatives of the velocity components\n",
    "\n",
    "```{math}\n",
    "  \\frac{\\partial u}{\\partial x} =  \\frac{\\partial u}{\\partial \\eta} \\frac{\\partial \\eta}{\\partial x} = -U f^{\\prime\\prime}\\frac{\\eta}{2x}\n",
    "```\n",
    "\n",
    "```{math}\n",
    " \\frac{\\partial u}{\\partial y} = \\frac{\\partial u}{\\partial \\eta} \\frac{\\partial \\eta}{\\partial y} = U f^{\\prime\\prime}\\sqrt{\\frac{U}{2 \\nu x}}\n",
    "``\n",
    "\n",
    "```{math}\n",
    " \\frac{\\partial^2 u}{\\partial y^2} = U f^{\\prime\\prime\\prime} \\frac{U}{2 \\nu x}\n",
    "```\n",
    "\n",
    "Inserting into the momentum equation\n",
    "\n",
    "```{math}\n",
    " U f^{\\prime} (-1)U f^{\\prime\\prime}\\frac{\\eta}{2x} + \\sqrt{\\frac{\\nu U}{2 x}} \\left(\\eta f^{\\prime} - f \\right) U f^{\\prime\\prime}\\sqrt{\\frac{U}{2 \\nu x}} = \\nu U f^{\\prime\\prime\\prime} \\frac{U}{2 \\nu x}\n",
    "```\n",
    "\n",
    "Multiply by $2x/U^2$ and rearrange\n",
    "\n",
    "```{math}\n",
    "\\begin{aligned}\n",
    " -f^{\\prime} f^{\\prime\\prime} \\eta + \\left(\\eta f^{\\prime} - f \\right) f^{\\prime\\prime} = f^{\\prime\\prime\\prime}, \\\\\n",
    " f^{\\prime\\prime\\prime} + f f^{\\prime\\prime} = 0\n",
    "\\end{aligned}\n",
    "```\n"
   ]
  }
 ],
 "metadata": {
  "kernelspec": {
   "display_name": "Python 3",
   "language": "python",
   "name": "python3"
  },
  "language_info": {
   "codemirror_mode": {
    "name": "ipython",
    "version": 3
   },
   "file_extension": ".py",
   "mimetype": "text/x-python",
   "name": "python",
   "nbconvert_exporter": "python",
   "pygments_lexer": "ipython3",
   "version": "3.8.5"
  }
 },
 "nbformat": 4,
 "nbformat_minor": 2
}
