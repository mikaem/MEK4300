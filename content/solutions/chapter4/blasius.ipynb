{
 "cells": [
  {
   "cell_type": "markdown",
   "metadata": {},
   "source": [
    "# Suggested derivation of Blasius equation\n",
    "\n",
    "The Blasius solution is derived from the boundary layer equations using a similarity variable\n",
    "\n",
    "$$\n",
    "  \\eta(x, y) = y \\sqrt{\\frac{U}{2 \\nu x}}.\n",
    "$$\n",
    "\n",
    "The pressure gradient is zero and the stream function and the velocity components are assumed given at a constant $x$-value as\n",
    "\n",
    "$$\n",
    "  \\psi = \\sqrt{2 \\nu U x} f(\\eta), \\quad u = U f^{\\prime}, \\quad v = \\sqrt{\\frac{\\nu U}{2 x}} \\left(\\eta f^{\\prime} - f \\right).\n",
    "$$\n",
    "\n",
    "The derivatives of $\\eta$ are\n",
    "\n",
    "\\begin{align*}\n",
    "  \\frac{\\partial \\eta}{\\partial x} &= -\\frac{y}{2}\\sqrt{\\frac{U}{2 \\nu}} x^{-\\frac{3}{2}} = -\\frac{\\eta}{2 x}, \\\\\n",
    "  \\frac{\\partial \\eta}{\\partial y} &= \\sqrt{\\frac{U}{2 \\nu x}}.\n",
    "\\end{align*}\n",
    "\n",
    "These are then used in the partial derivatives of the velocity components\n",
    "\n",
    "$$\n",
    "  \\frac{\\partial u}{\\partial x} =  \\frac{\\partial u}{\\partial \\eta} \\frac{\\partial \\eta}{\\partial x} = -U f^{\\prime\\prime}\\frac{\\eta}{2x}\n",
    "$$\n",
    "\n",
    "$$\n",
    " \\frac{\\partial u}{\\partial y} = \\frac{\\partial u}{\\partial \\eta} \\frac{\\partial \\eta}{\\partial y} = U f^{\\prime\\prime}\\sqrt{\\frac{U}{2 \\nu x}}\n",
    "$$\n",
    "\n",
    "$$\n",
    " \\frac{\\partial^2 u}{\\partial y^2} = U f^{\\prime\\prime\\prime} \\frac{U}{2 \\nu x}\n",
    "$$\n",
    "\n",
    "Inserting into the momentum equation\n",
    "\n",
    "$$\n",
    " U f^{\\prime} (-1)U f^{\\prime\\prime}\\frac{\\eta}{2x} + \\sqrt{\\frac{\\nu U}{2 x}} \\left(\\eta f^{\\prime} - f \\right) U f^{\\prime\\prime}\\sqrt{\\frac{U}{2 \\nu x}} = \\nu U f^{\\prime\\prime\\prime} \\frac{U}{2 \\nu x}\n",
    "$$\n",
    "\n",
    "Multiply by $2x/U^2$ and rearrange\n",
    "\n",
    "$$\n",
    "\\begin{aligned}\n",
    " -f^{\\prime} f^{\\prime\\prime} \\eta + \\left(\\eta f^{\\prime} - f \\right) f^{\\prime\\prime} = f^{\\prime\\prime\\prime}, \\\\\n",
    " f^{\\prime\\prime\\prime} + f f^{\\prime\\prime} = 0\n",
    "\\end{aligned}\n",
    "$$\n"
   ]
  },
  {
   "cell_type": "code",
   "execution_count": null,
   "metadata": {},
   "outputs": [],
   "source": []
  }
 ],
 "metadata": {
  "kernelspec": {
   "display_name": "Python 3",
   "language": "python",
   "name": "python3"
  },
  "language_info": {
   "codemirror_mode": {
    "name": "ipython",
    "version": 3
   },
   "file_extension": ".py",
   "mimetype": "text/x-python",
   "name": "python",
   "nbconvert_exporter": "python",
   "pygments_lexer": "ipython3",
   "version": "3.8.5"
  },
  "toc": {
   "base_numbering": 1,
   "nav_menu": {},
   "number_sections": false,
   "sideBar": true,
   "skip_h1_title": false,
   "title_cell": "Table of Contents",
   "title_sidebar": "Contents",
   "toc_cell": false,
   "toc_position": {},
   "toc_section_display": true,
   "toc_window_display": false
  }
 },
 "nbformat": 4,
 "nbformat_minor": 2
}
