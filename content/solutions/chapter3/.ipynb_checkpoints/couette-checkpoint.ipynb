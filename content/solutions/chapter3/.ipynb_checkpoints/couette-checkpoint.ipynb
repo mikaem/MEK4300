{
 "cells": [
  {
   "cell_type": "markdown",
   "metadata": {},
   "source": [
    "# Suggested solutions Couette\n",
    "\n",
    "## Solutions written assignments Couette"
   ]
  },
  {
   "cell_type": "markdown",
   "metadata": {},
   "source": [
    "### Problem 3-1 in White\n",
    "\n",
    "Solve for a non-Newtonian Couette flow, where the stress tensor is computed as\n",
    "  \n",
    "$$\n",
    "  \\tau = K\\left(\\frac{\\mathrm{d}u}{\\mathrm{d}y}\\right)^n,\n",
    "$$\n",
    "  \n",
    "where $n$ is an integer different from 1.\n",
    "The momentum equation for any stress tensor in a Couette flow is\n",
    "   \n",
    "$$\n",
    "  0 = \\nabla \\cdot \\tau.\n",
    "$$\n",
    "  \n",
    "For one-dimensional Couette flow aligned with the $x$-direction and homogeneous in the $z$-direction, the equation reads\n",
    "  \n",
    "$$\n",
    "  0 = \\frac{\\mathrm{d} \\tau}{\\mathrm{d}y},\n",
    "$$\n",
    "  \n",
    "which means that $\\tau$ is a constant with respect to $y$ and thus\n",
    "  \n",
    "$$\n",
    " K\\left(\\frac{\\mathrm{d}u}{\\mathrm{d}y}\\right)^n = K_2,\n",
    "$$\n",
    "  \n",
    "where $K_2$ is a new constant. In other words\n",
    "  \n",
    "$$\n",
    " \\frac{\\mathrm{d}u}{\\mathrm{d}y} = K_3 \\left(= (K_2/K)^{1/n}\\right),\n",
    "$$\n",
    "  \n",
    "and thus\n",
    "  \n",
    "$$\n",
    " u = K_3 y + K_4.\n",
    "$$\n",
    "  \n",
    "The solution is the same as for Newtonian flows regardless of $n$."
   ]
  },
  {
   "cell_type": "markdown",
   "metadata": {},
   "source": [
    "### Problem 3-2 White\n",
    "\n",
    "The analytical solution has already been computed in Eq. {eq}`eq:UaxCyl` in [Couette flows](../../chapter3/couette.ipynb)."
   ]
  },
  {
   "cell_type": "markdown",
   "metadata": {},
   "source": [
    "### Problem 3-3 White\n",
    "\n",
    "The temperature equation reduces to\n",
    "  \n",
    "$$\n",
    " 0 = \\frac{\\kappa}{r}\\frac{\\mathrm{d}}{\\mathrm{d} r}\\left(r \\frac{\\mathrm{d} T}{\\mathrm{d} r} \\right) + \\mu \\left(\\frac{\\mathrm{d} u_z}{\\mathrm{d}r} \\right)^2.\n",
    "$$\n",
    "  \n",
    "Inserting for Eq. {eq}`eq:UaxCyl` we have\n",
    "  \n",
    "$$\n",
    " \\frac{\\mathrm{d}}{\\mathrm{d} r}\\left(r \\frac{\\mathrm{d} T}{\\mathrm{d} r} \\right) = -\\frac{\\mu U_0^2}{\\kappa r \\ln^2(r_1/r_0)}.\n",
    "$$\n",
    "  \n",
    "Integrate twice to obtain\n",
    "  \n",
    "$$\n",
    " T = -\\frac{\\mu U_0^2}{2 \\kappa \\ln^2(r_1/r_0)} \\ln^2(r) + C_1\\ln(r) + C_2,\n",
    "$$\n",
    "   \n",
    "and determine constants using the two boundary conditions.\n",
    "   "
   ]
  }
 ],
 "metadata": {
  "celltoolbar": "Tags",
  "kernelspec": {
   "display_name": "Python 3",
   "language": "python",
   "name": "python3"
  },
  "language_info": {
   "codemirror_mode": {
    "name": "ipython",
    "version": 3
   },
   "file_extension": ".py",
   "mimetype": "text/x-python",
   "name": "python",
   "nbconvert_exporter": "python",
   "pygments_lexer": "ipython3",
   "version": "3.8.5"
  },
  "toc": {
   "base_numbering": 1,
   "nav_menu": {},
   "number_sections": false,
   "sideBar": true,
   "skip_h1_title": false,
   "title_cell": "Table of Contents",
   "title_sidebar": "Contents",
   "toc_cell": false,
   "toc_position": {},
   "toc_section_display": true,
   "toc_window_display": false
  }
 },
 "nbformat": 4,
 "nbformat_minor": 4
}
