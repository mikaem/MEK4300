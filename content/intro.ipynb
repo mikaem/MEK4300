{
 "cells": [
  {
   "cell_type": "markdown",
   "metadata": {},
   "source": [
    "# Introduction\n",
    "\n",
    "These lecture notes are created using [Jupyter notebooks](https://jupyter.org). The notes contain\n",
    "live code examples that can be modified and run. The idea is for the user to get an interactive\n",
    "experience that hopefully will make the education both more interesting, as well as better quality.\n",
    "Learning by doing, programming is understanding. The notes are best read online. However, they can still be downloaded as a single pdf from here\n",
    "\n",
    "<div class=\"buttons\">\n",
    "<a href=\"https://cdn.jsdelivr.net/gh/mikaem/mek4300@master/mek4300.pdf\"><button class=\"interact-button\" id=\"interact-button-binder\"><img class=\"interact-button-logo\" src=\"../_static/PDF_Logo.png\" alt=\"View PDF\" />View PDF</button></a>\n",
    "</div>\n",
    "\n",
    "On all html pages there are some buttons in the top right corner. The last button lets you download the page you are currently surfing as a jupyter notebook or a pdf. The notebook can then be opened, modified and run locally. However, the different pages in these lecture notes are connected, with some links going from one page to another. So you probably want to open these notebooks in a folder where all live together. To this end there is the first button, which looks like a rocket. The rockets first link will take you to [Binder](https://mybinder.org), where you will have all notebooks available in an environment that can run all examples in these notes. This means, in particular, \n",
    "that the environment has FEniCS installed for you. If you press the button above you get an \n",
    "environment that opens up the notebook version of whichever file you happen to be surfing (for this file it will be *intro.ipynb*). Note that it is \n",
    "easy to navigate in binder. So you may change the path in the link followed above, or you may \n",
    "simply follow this link to the top directory structure of the lecture notes:\n",
    "\n",
    "<div class=\"buttons\">\n",
    "<a href=\"https://mybinder.org/v2/gh/mikaem/MEK4300/master?filepath=/content\"><button class=\"interact-button\" id=\"interact-button-binder\"><img class=\"interact-button-logo\" src=\"../_static/images/logo_binder.svg\" alt=\"Binder\" />Binder</button></a>\n",
    "</div>\n",
    "\n",
    "In most notebooks there are live computational cell, where code can be typed and executed, like this:"
   ]
  },
  {
   "cell_type": "code",
   "execution_count": 1,
   "metadata": {},
   "outputs": [
    {
     "name": "stdout",
     "output_type": "stream",
     "text": [
      "Hello world!\n"
     ]
    }
   ],
   "source": [
    "print('Hello world!')"
   ]
  },
  {
   "cell_type": "markdown",
   "metadata": {},
   "source": [
    "or this"
   ]
  },
  {
   "cell_type": "code",
   "execution_count": 2,
   "metadata": {},
   "outputs": [],
   "source": [
    "from dolfin import *"
   ]
  },
  {
   "cell_type": "markdown",
   "metadata": {},
   "source": [
    "If you are reading this on the web (if this is an html) then the cells are alive and you may change them and rerun if you please. To this end, again choose the rocket button and press `Live Code`. This will load a Binder environment that makes it possible to run the cell interactively, while still remaining in the html-version of this book, without moving to Binder. Please note that the first time a binder image is requested for a new version of this book it may take some time to build and the *Waiting for kernel...* message seems to be hanging. However, after loading the first time, subsequent runs on this and other pages should be much faster.\n",
    "\n",
    "Finally, note that `dolfin` is a C++ module of [FEniCS](www.fenicsproject.org) that has been wrapped and made callable from Python. In these lecture notes we will make extensive use of FEniCS as a tool for solving the various partial differential equations that arise. FEniCS makes use of the finite element method (FEM), and some knowledge about FEM is an advantage, yet no requirement, when reading these notes."
   ]
  },
  {
   "cell_type": "code",
   "execution_count": null,
   "metadata": {},
   "outputs": [],
   "source": []
  }
 ],
 "metadata": {
  "kernelspec": {
   "display_name": "Python 3",
   "language": "python",
   "name": "python3"
  },
  "language_info": {
   "codemirror_mode": {
    "name": "ipython",
    "version": 3
   },
   "file_extension": ".py",
   "mimetype": "text/x-python",
   "name": "python",
   "nbconvert_exporter": "python",
   "pygments_lexer": "ipython3",
   "version": "3.8.5"
  },
  "toc": {
   "base_numbering": 1,
   "nav_menu": {},
   "number_sections": false,
   "sideBar": true,
   "skip_h1_title": false,
   "title_cell": "Table of Contents",
   "title_sidebar": "Contents",
   "toc_cell": false,
   "toc_position": {},
   "toc_section_display": true,
   "toc_window_display": false
  }
 },
 "nbformat": 4,
 "nbformat_minor": 2
}
